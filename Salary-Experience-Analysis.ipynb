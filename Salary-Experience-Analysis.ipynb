{
 "cells": [
  {
   "cell_type": "markdown",
   "id": "2e925404-d64c-46e3-960a-8edef2599cbe",
   "metadata": {},
   "source": [
    "# Exam's Project - Salary Data"
   ]
  },
  {
   "cell_type": "markdown",
   "id": "4cc7ce4f-c920-472f-96e0-9a7a797761a7",
   "metadata": {},
   "source": [
    "## Cleaning And Validating The Salary Data"
   ]
  },
  {
   "cell_type": "markdown",
   "id": "baad528c-e399-4dc4-8e70-1f6ae9f7565f",
   "metadata": {},
   "source": [
    "## Practical Exam: Career Atlas Inc.\n",
    "Career Atlas Inc. provides salary insights to help companies benchmark compensation and guide job seekers in making informed career decisions. Recently, there have been inconsistencies in the reported salary data. Your team is tasked with cleaning and analyzing a dataset containing job salary details to support a reliable salary trend report.\n",
    "\n",
    "## Instructions\n",
    "You should start with the dataset: ds_salaries_dirty.csv.\n",
    "\n",
    "\n",
    "Submit your work as a notebook (.ipynb) with code and  markdown cells explaining your process, decisions, and findings. This is just as important as your code.\n",
    "\n",
    "\n",
    "When you're done, upload your notebook using this submission link\n",
    "Deadline: 18/06/2025\n",
    "\n",
    "* **Task 1**: Clean and Validate the Salary Data\n",
    "Start by examining and cleaning the dataset. Some records contain missing or inconsistent values.\n",
    "You should start with the data in the file \"ds_salaries_dirty.csv\".\n",
    "\n",
    "\n",
    "Your output should be a DataFrame named clean_salaries.\n",
    "\n",
    "\n",
    "* ### Apply the following rules:\n",
    "Column Name\n",
    "Criteria\n",
    "work_year\n",
    "Integer. Year the salary was reported. Must not be missing.\n",
    "experience_level\n",
    "Categorical. One of 'EN', 'MI', 'SE', 'EX'. Replace missing/invalid with 'EN'.\n",
    "employment_type\n",
    "Categorical. One of 'FT', 'PT', 'CT', 'FL'. Replace missing values with 'FT'.\n",
    "job_title\n",
    "String. Remove entries with less than 3 characters.\n",
    "salary_in_usd\n",
    "Numeric. Replace any values below 10,000 or above 1,000,000 with median.\n",
    "company_location\n",
    "Should be a valid 2-letter country code. Replace missing with 'US'.\n",
    "company_size\n",
    "One of 'S', 'M', 'L'. Replace missing or invalid with 'M'.\n",
    "\n",
    "\n",
    "* **Task 2: Salary Trends by Experience**\n",
    "Investigate how experience level affects average salary across employment types.\n",
    "Group the data by experience_level and employment_type, and note observations in markdown.\n",
    "\n",
    "\n",
    "Compute average salary_in_usd.\n",
    "\n",
    "\n",
    "Your result should be a DataFrame named salary_trends and\n",
    " Notes stating your findings in markdown\n",
    "\n",
    "* **Task 3: Remote Work Analysis**\n",
    "Analyze and discuss the effect of remote work on salaries.\n",
    "Compare average salaries between remote (remote_ratio = 100) and non-remote (remote_ratio = 0) roles.\n",
    "\n",
    "\n",
    "Output should be a DataFrame named remote_salary_comparison with two rows:\n",
    "\n",
    "\n",
    "Remote\n",
    "On-site\n"
   ]
  },
  {
   "cell_type": "code",
   "execution_count": 1,
   "id": "86042b1a-f96d-42d0-a353-c0449219a83a",
   "metadata": {},
   "outputs": [],
   "source": [
    "# First import the python library pandas \n",
    "import pandas as pd"
   ]
  },
  {
   "cell_type": "code",
   "execution_count": 2,
   "id": "8c8c952b-dff5-4641-87b8-1a48f46d68da",
   "metadata": {},
   "outputs": [],
   "source": [
    "# import and read the data needed to be cleaned using pd.read_csv('data') \n",
    "clean_salaries = pd.read_csv('ds_salaries_dirty.csv')"
   ]
  },
  {
   "cell_type": "code",
   "execution_count": 3,
   "id": "05e8b018-5385-486d-8aef-fd09a7bc861a",
   "metadata": {},
   "outputs": [
    {
     "data": {
      "text/html": [
       "<div>\n",
       "<style scoped>\n",
       "    .dataframe tbody tr th:only-of-type {\n",
       "        vertical-align: middle;\n",
       "    }\n",
       "\n",
       "    .dataframe tbody tr th {\n",
       "        vertical-align: top;\n",
       "    }\n",
       "\n",
       "    .dataframe thead th {\n",
       "        text-align: right;\n",
       "    }\n",
       "</style>\n",
       "<table border=\"1\" class=\"dataframe\">\n",
       "  <thead>\n",
       "    <tr style=\"text-align: right;\">\n",
       "      <th></th>\n",
       "      <th>work_year</th>\n",
       "      <th>experience_level</th>\n",
       "      <th>employment_type</th>\n",
       "      <th>job_title</th>\n",
       "      <th>salary_in_usd</th>\n",
       "      <th>remote_ratio</th>\n",
       "      <th>company_location</th>\n",
       "      <th>company_size</th>\n",
       "    </tr>\n",
       "  </thead>\n",
       "  <tbody>\n",
       "    <tr>\n",
       "      <th>0</th>\n",
       "      <td>2022</td>\n",
       "      <td>SE</td>\n",
       "      <td>CT</td>\n",
       "      <td>Data Scientist</td>\n",
       "      <td>42183.0</td>\n",
       "      <td>50</td>\n",
       "      <td>IN</td>\n",
       "      <td>L</td>\n",
       "    </tr>\n",
       "    <tr>\n",
       "      <th>1</th>\n",
       "      <td>2023</td>\n",
       "      <td>MI</td>\n",
       "      <td>FL</td>\n",
       "      <td>Data Scientist</td>\n",
       "      <td>190371.0</td>\n",
       "      <td>100</td>\n",
       "      <td>IN</td>\n",
       "      <td>S</td>\n",
       "    </tr>\n",
       "    <tr>\n",
       "      <th>2</th>\n",
       "      <td>2020</td>\n",
       "      <td>MI</td>\n",
       "      <td>CT</td>\n",
       "      <td>DS</td>\n",
       "      <td>173946.0</td>\n",
       "      <td>50</td>\n",
       "      <td>IN</td>\n",
       "      <td>L</td>\n",
       "    </tr>\n",
       "    <tr>\n",
       "      <th>3</th>\n",
       "      <td>2022</td>\n",
       "      <td>NaN</td>\n",
       "      <td>FT</td>\n",
       "      <td>ML Engineer</td>\n",
       "      <td>146336.0</td>\n",
       "      <td>50</td>\n",
       "      <td>DE</td>\n",
       "      <td>S</td>\n",
       "    </tr>\n",
       "    <tr>\n",
       "      <th>4</th>\n",
       "      <td>2022</td>\n",
       "      <td>MI</td>\n",
       "      <td>FL</td>\n",
       "      <td>ML Engineer</td>\n",
       "      <td>9999999.0</td>\n",
       "      <td>100</td>\n",
       "      <td>NG</td>\n",
       "      <td>L</td>\n",
       "    </tr>\n",
       "  </tbody>\n",
       "</table>\n",
       "</div>"
      ],
      "text/plain": [
       "   work_year experience_level employment_type       job_title  salary_in_usd  \\\n",
       "0       2022               SE              CT  Data Scientist        42183.0   \n",
       "1       2023               MI              FL  Data Scientist       190371.0   \n",
       "2       2020               MI              CT              DS       173946.0   \n",
       "3       2022              NaN              FT     ML Engineer       146336.0   \n",
       "4       2022               MI              FL     ML Engineer      9999999.0   \n",
       "\n",
       "   remote_ratio company_location company_size  \n",
       "0            50               IN            L  \n",
       "1           100               IN            S  \n",
       "2            50               IN            L  \n",
       "3            50               DE            S  \n",
       "4           100               NG            L  "
      ]
     },
     "execution_count": 3,
     "metadata": {},
     "output_type": "execute_result"
    }
   ],
   "source": [
    "# outputting the data\n",
    "clean_salaries.head()"
   ]
  },
  {
   "cell_type": "code",
   "execution_count": 4,
   "id": "f585afb9-5e28-4340-8964-0a1bf6ac5ccf",
   "metadata": {},
   "outputs": [
    {
     "data": {
      "text/plain": [
       "(100, 8)"
      ]
     },
     "execution_count": 4,
     "metadata": {},
     "output_type": "execute_result"
    }
   ],
   "source": [
    "clean_salaries.shape"
   ]
  },
  {
   "cell_type": "code",
   "execution_count": 5,
   "id": "5e10e16a-cd6c-4cd7-9046-b48a6f4489d9",
   "metadata": {},
   "outputs": [
    {
     "data": {
      "text/plain": [
       "800"
      ]
     },
     "execution_count": 5,
     "metadata": {},
     "output_type": "execute_result"
    }
   ],
   "source": [
    "clean_salaries.size"
   ]
  },
  {
   "cell_type": "code",
   "execution_count": 6,
   "id": "1fcec609-d241-453e-8f19-768b32faeaa5",
   "metadata": {},
   "outputs": [
    {
     "name": "stdout",
     "output_type": "stream",
     "text": [
      "<class 'pandas.core.frame.DataFrame'>\n",
      "RangeIndex: 100 entries, 0 to 99\n",
      "Data columns (total 8 columns):\n",
      " #   Column            Non-Null Count  Dtype  \n",
      "---  ------            --------------  -----  \n",
      " 0   work_year         100 non-null    int64  \n",
      " 1   experience_level  90 non-null     object \n",
      " 2   employment_type   92 non-null     object \n",
      " 3   job_title         100 non-null    object \n",
      " 4   salary_in_usd     96 non-null     float64\n",
      " 5   remote_ratio      100 non-null    int64  \n",
      " 6   company_location  94 non-null     object \n",
      " 7   company_size      100 non-null    object \n",
      "dtypes: float64(1), int64(2), object(5)\n",
      "memory usage: 6.4+ KB\n"
     ]
    }
   ],
   "source": [
    "# Checking the summary of the dataframe\n",
    "clean_salaries.info()"
   ]
  },
  {
   "cell_type": "markdown",
   "id": "472128be-1c0f-4fcc-9119-299e6b7ba904",
   "metadata": {},
   "source": [
    "##### Having checked the summary of the dataframe, it is noted that all values are in their right data type \n",
    "-All values in integer are in integers, \n",
    "-float values are in float, \n",
    "-and the string values are in string."
   ]
  },
  {
   "cell_type": "code",
   "execution_count": 7,
   "id": "c40a4da0-078a-4eef-82f7-ba8990256eee",
   "metadata": {},
   "outputs": [
    {
     "data": {
      "text/html": [
       "<div>\n",
       "<style scoped>\n",
       "    .dataframe tbody tr th:only-of-type {\n",
       "        vertical-align: middle;\n",
       "    }\n",
       "\n",
       "    .dataframe tbody tr th {\n",
       "        vertical-align: top;\n",
       "    }\n",
       "\n",
       "    .dataframe thead th {\n",
       "        text-align: right;\n",
       "    }\n",
       "</style>\n",
       "<table border=\"1\" class=\"dataframe\">\n",
       "  <thead>\n",
       "    <tr style=\"text-align: right;\">\n",
       "      <th></th>\n",
       "      <th>work_year</th>\n",
       "      <th>experience_level</th>\n",
       "      <th>employment_type</th>\n",
       "      <th>job_title</th>\n",
       "      <th>salary_in_usd</th>\n",
       "      <th>remote_ratio</th>\n",
       "      <th>company_location</th>\n",
       "      <th>company_size</th>\n",
       "    </tr>\n",
       "  </thead>\n",
       "  <tbody>\n",
       "    <tr>\n",
       "      <th>0</th>\n",
       "      <td>2022</td>\n",
       "      <td>SE</td>\n",
       "      <td>CT</td>\n",
       "      <td>Data Scientist</td>\n",
       "      <td>42183.0</td>\n",
       "      <td>50</td>\n",
       "      <td>IN</td>\n",
       "      <td>L</td>\n",
       "    </tr>\n",
       "    <tr>\n",
       "      <th>1</th>\n",
       "      <td>2023</td>\n",
       "      <td>MI</td>\n",
       "      <td>FL</td>\n",
       "      <td>Data Scientist</td>\n",
       "      <td>190371.0</td>\n",
       "      <td>100</td>\n",
       "      <td>IN</td>\n",
       "      <td>S</td>\n",
       "    </tr>\n",
       "    <tr>\n",
       "      <th>2</th>\n",
       "      <td>2020</td>\n",
       "      <td>MI</td>\n",
       "      <td>CT</td>\n",
       "      <td>DS</td>\n",
       "      <td>173946.0</td>\n",
       "      <td>50</td>\n",
       "      <td>IN</td>\n",
       "      <td>L</td>\n",
       "    </tr>\n",
       "    <tr>\n",
       "      <th>3</th>\n",
       "      <td>2022</td>\n",
       "      <td>NaN</td>\n",
       "      <td>FT</td>\n",
       "      <td>ML Engineer</td>\n",
       "      <td>146336.0</td>\n",
       "      <td>50</td>\n",
       "      <td>DE</td>\n",
       "      <td>S</td>\n",
       "    </tr>\n",
       "    <tr>\n",
       "      <th>4</th>\n",
       "      <td>2022</td>\n",
       "      <td>MI</td>\n",
       "      <td>FL</td>\n",
       "      <td>ML Engineer</td>\n",
       "      <td>9999999.0</td>\n",
       "      <td>100</td>\n",
       "      <td>NG</td>\n",
       "      <td>L</td>\n",
       "    </tr>\n",
       "  </tbody>\n",
       "</table>\n",
       "</div>"
      ],
      "text/plain": [
       "   work_year experience_level employment_type       job_title  salary_in_usd  \\\n",
       "0       2022               SE              CT  Data Scientist        42183.0   \n",
       "1       2023               MI              FL  Data Scientist       190371.0   \n",
       "2       2020               MI              CT              DS       173946.0   \n",
       "3       2022              NaN              FT     ML Engineer       146336.0   \n",
       "4       2022               MI              FL     ML Engineer      9999999.0   \n",
       "\n",
       "   remote_ratio company_location company_size  \n",
       "0            50               IN            L  \n",
       "1           100               IN            S  \n",
       "2            50               IN            L  \n",
       "3            50               DE            S  \n",
       "4           100               NG            L  "
      ]
     },
     "execution_count": 7,
     "metadata": {},
     "output_type": "execute_result"
    }
   ],
   "source": [
    "clean_salaries.head()"
   ]
  },
  {
   "cell_type": "markdown",
   "id": "65005d7d-fcfb-4af0-bf5a-cbc03b32ae6a",
   "metadata": {},
   "source": [
    "### Checking for And Replacing Missing Values"
   ]
  },
  {
   "cell_type": "code",
   "execution_count": 8,
   "id": "eaaa9906-cd0e-4941-adf3-a024ba35e0a4",
   "metadata": {},
   "outputs": [
    {
     "data": {
      "text/plain": [
       "work_year            0\n",
       "experience_level    10\n",
       "employment_type      8\n",
       "job_title            0\n",
       "salary_in_usd        4\n",
       "remote_ratio         0\n",
       "company_location     6\n",
       "company_size         0\n",
       "dtype: int64"
      ]
     },
     "execution_count": 8,
     "metadata": {},
     "output_type": "execute_result"
    }
   ],
   "source": [
    "#Checking for missing values in the datasets \n",
    "clean_salaries.isna().sum()"
   ]
  },
  {
   "cell_type": "markdown",
   "id": "a7b14b46-22bc-4884-8e9d-b29aee52989b",
   "metadata": {},
   "source": [
    "##### After checking for the missing values it is being detected here that some columns have missing values,\n",
    "-experience_level has 10 missing values to be replaced with 'EN' ,\n",
    "-employment_type has 8 missing values to be replaced with 'FT', \n",
    "-company_location has 6 missing values to be replaced with 'US', \n",
    "-salary_in_usd has 4 missing values to be replaced with the median_value"
   ]
  },
  {
   "cell_type": "code",
   "execution_count": 9,
   "id": "ff99d3ef-b617-4480-913c-506cae451138",
   "metadata": {},
   "outputs": [
    {
     "data": {
      "text/plain": [
       "0      SE\n",
       "1      MI\n",
       "2      MI\n",
       "3     NaN\n",
       "4      MI\n",
       "5      MI\n",
       "6     NaN\n",
       "7      EX\n",
       "8      MI\n",
       "9      SE\n",
       "10     EX\n",
       "11     SE\n",
       "12     EX\n",
       "13     MI\n",
       "14     SE\n",
       "15     EX\n",
       "16     EN\n",
       "17     MI\n",
       "18     EX\n",
       "19     EN\n",
       "Name: experience_level, dtype: object"
      ]
     },
     "execution_count": 9,
     "metadata": {},
     "output_type": "execute_result"
    }
   ],
   "source": [
    "# replacing the missing values in the column 'experience_level'  \n",
    "clean_salaries['experience_level'].head(20)"
   ]
  },
  {
   "cell_type": "code",
   "execution_count": 10,
   "id": "7232fbb4-0924-424c-8a6f-c608af66a07b",
   "metadata": {},
   "outputs": [],
   "source": [
    "clean_salaries['experience_level'] = clean_salaries['experience_level'].fillna('EN')"
   ]
  },
  {
   "cell_type": "code",
   "execution_count": 11,
   "id": "07b3e009-9477-4eb9-b161-82d9cd3f592f",
   "metadata": {},
   "outputs": [
    {
     "data": {
      "text/plain": [
       "0     SE\n",
       "1     MI\n",
       "2     MI\n",
       "3     EN\n",
       "4     MI\n",
       "5     MI\n",
       "6     EN\n",
       "7     EX\n",
       "8     MI\n",
       "9     SE\n",
       "10    EX\n",
       "11    SE\n",
       "12    EX\n",
       "13    MI\n",
       "14    SE\n",
       "15    EX\n",
       "16    EN\n",
       "17    MI\n",
       "18    EX\n",
       "19    EN\n",
       "Name: experience_level, dtype: object"
      ]
     },
     "execution_count": 11,
     "metadata": {},
     "output_type": "execute_result"
    }
   ],
   "source": [
    "clean_salaries['experience_level'].head(20)"
   ]
  },
  {
   "cell_type": "code",
   "execution_count": 12,
   "id": "108858c2-5918-4d51-8d02-a25dbb078ef2",
   "metadata": {},
   "outputs": [
    {
     "data": {
      "text/plain": [
       "80     FL\n",
       "81    NaN\n",
       "82     PT\n",
       "83     CT\n",
       "84     PT\n",
       "85     CT\n",
       "86     FT\n",
       "87    NaN\n",
       "88    NaN\n",
       "89     FL\n",
       "90     FT\n",
       "91     CT\n",
       "92     FT\n",
       "93     PT\n",
       "94     PT\n",
       "95     FL\n",
       "96     PT\n",
       "97     CT\n",
       "98     FT\n",
       "99     FL\n",
       "Name: employment_type, dtype: object"
      ]
     },
     "execution_count": 12,
     "metadata": {},
     "output_type": "execute_result"
    }
   ],
   "source": [
    "# replacing the missing value in the column 'empolyment_type' \n",
    "clean_salaries['employment_type'].tail(20)"
   ]
  },
  {
   "cell_type": "code",
   "execution_count": 13,
   "id": "c3ecc4c7-2b14-4a81-be2e-5a10ad7e5973",
   "metadata": {},
   "outputs": [],
   "source": [
    "clean_salaries['employment_type'] = clean_salaries['employment_type'].fillna('FT')"
   ]
  },
  {
   "cell_type": "code",
   "execution_count": 14,
   "id": "2251bc8a-b0c0-4c5a-81c5-70d52aa7963f",
   "metadata": {},
   "outputs": [
    {
     "data": {
      "text/plain": [
       "80    FL\n",
       "81    FT\n",
       "82    PT\n",
       "83    CT\n",
       "84    PT\n",
       "85    CT\n",
       "86    FT\n",
       "87    FT\n",
       "88    FT\n",
       "89    FL\n",
       "90    FT\n",
       "91    CT\n",
       "92    FT\n",
       "93    PT\n",
       "94    PT\n",
       "95    FL\n",
       "96    PT\n",
       "97    CT\n",
       "98    FT\n",
       "99    FL\n",
       "Name: employment_type, dtype: object"
      ]
     },
     "execution_count": 14,
     "metadata": {},
     "output_type": "execute_result"
    }
   ],
   "source": [
    "clean_salaries['employment_type'].tail(20)"
   ]
  },
  {
   "cell_type": "code",
   "execution_count": 15,
   "id": "fbd58d92-3f41-43ad-83d9-1eb08e86dec3",
   "metadata": {},
   "outputs": [
    {
     "data": {
      "text/plain": [
       "0      IN\n",
       "1      IN\n",
       "2      IN\n",
       "3      DE\n",
       "4      NG\n",
       "5      GB\n",
       "6      DE\n",
       "7      IN\n",
       "8      US\n",
       "9      IN\n",
       "10    NaN\n",
       "11     IN\n",
       "12     US\n",
       "13     NG\n",
       "14     IN\n",
       "15    NaN\n",
       "16     GB\n",
       "17     GB\n",
       "18     IN\n",
       "19     NG\n",
       "Name: company_location, dtype: object"
      ]
     },
     "execution_count": 15,
     "metadata": {},
     "output_type": "execute_result"
    }
   ],
   "source": [
    "# replacing the missing value in the column 'company_location' \n",
    "clean_salaries['company_location'].head(20)"
   ]
  },
  {
   "cell_type": "code",
   "execution_count": 16,
   "id": "ee13293a-d5cc-4873-801e-74abc63a7f33",
   "metadata": {},
   "outputs": [],
   "source": [
    "clean_salaries['company_location'] = clean_salaries['company_location'].fillna('US')"
   ]
  },
  {
   "cell_type": "code",
   "execution_count": 17,
   "id": "51f015b1-55d9-4bd6-bf50-e236ebaec0be",
   "metadata": {},
   "outputs": [
    {
     "data": {
      "text/plain": [
       "0     IN\n",
       "1     IN\n",
       "2     IN\n",
       "3     DE\n",
       "4     NG\n",
       "5     GB\n",
       "6     DE\n",
       "7     IN\n",
       "8     US\n",
       "9     IN\n",
       "10    US\n",
       "11    IN\n",
       "12    US\n",
       "13    NG\n",
       "14    IN\n",
       "15    US\n",
       "16    GB\n",
       "17    GB\n",
       "18    IN\n",
       "19    NG\n",
       "Name: company_location, dtype: object"
      ]
     },
     "execution_count": 17,
     "metadata": {},
     "output_type": "execute_result"
    }
   ],
   "source": [
    "clean_salaries['company_location'].head(20)"
   ]
  },
  {
   "cell_type": "code",
   "execution_count": 18,
   "id": "eea5f0db-8753-446b-8418-b9738e4b8caf",
   "metadata": {},
   "outputs": [
    {
     "data": {
      "text/plain": [
       "0     Data Scientist\n",
       "1     Data Scientist\n",
       "2                 DS\n",
       "3        ML Engineer\n",
       "4        ML Engineer\n",
       "5     Data Scientist\n",
       "6      AI Specialist\n",
       "7        ML Engineer\n",
       "8                 DS\n",
       "9        ML Engineer\n",
       "10     AI Specialist\n",
       "11      Data Analyst\n",
       "12     AI Specialist\n",
       "13      Data Analyst\n",
       "14      Data Analyst\n",
       "15                DS\n",
       "16      Data Analyst\n",
       "17    Data Scientist\n",
       "18      Data Analyst\n",
       "19       ML Engineer\n",
       "Name: job_title, dtype: object"
      ]
     },
     "execution_count": 18,
     "metadata": {},
     "output_type": "execute_result"
    }
   ],
   "source": [
    "# for the job_title, some titles are less than three character\n",
    "# and according to instruction it should be removed i.e. removing such rows \n",
    "clean_salaries['job_title'].head(20)"
   ]
  },
  {
   "cell_type": "code",
   "execution_count": 19,
   "id": "ce8eb98e-2f13-4092-a019-a6cf42c33400",
   "metadata": {},
   "outputs": [],
   "source": [
    "# removing the rows will require using the boolean indexing along with the .str.len method \n",
    "clean_salaries = clean_salaries[clean_salaries['job_title'].str.len()>=3]"
   ]
  },
  {
   "cell_type": "code",
   "execution_count": 20,
   "id": "4ebb0211-8fde-4c3c-9117-f5144c34a592",
   "metadata": {},
   "outputs": [
    {
     "data": {
      "text/plain": [
       "0     Data Scientist\n",
       "1     Data Scientist\n",
       "3        ML Engineer\n",
       "4        ML Engineer\n",
       "5     Data Scientist\n",
       "6      AI Specialist\n",
       "7        ML Engineer\n",
       "9        ML Engineer\n",
       "10     AI Specialist\n",
       "11      Data Analyst\n",
       "12     AI Specialist\n",
       "13      Data Analyst\n",
       "14      Data Analyst\n",
       "16      Data Analyst\n",
       "17    Data Scientist\n",
       "18      Data Analyst\n",
       "19       ML Engineer\n",
       "20     AI Specialist\n",
       "21    Data Scientist\n",
       "22     AI Specialist\n",
       "Name: job_title, dtype: object"
      ]
     },
     "execution_count": 20,
     "metadata": {},
     "output_type": "execute_result"
    }
   ],
   "source": [
    "clean_salaries['job_title'].head(20)"
   ]
  },
  {
   "cell_type": "markdown",
   "id": "f4792779-65d1-48e0-9906-e801851a377a",
   "metadata": {},
   "source": [
    "### replacing missing values and outliers in salary_in_usd column"
   ]
  },
  {
   "cell_type": "code",
   "execution_count": 21,
   "id": "d742508a-4db4-43f7-a6c4-03b23ebf31d6",
   "metadata": {},
   "outputs": [
    {
     "data": {
      "text/plain": [
       "0       42183.0\n",
       "1      190371.0\n",
       "3      146336.0\n",
       "4     9999999.0\n",
       "5       35539.0\n",
       "6      214423.0\n",
       "7      222339.0\n",
       "9     5000000.0\n",
       "10     163629.0\n",
       "11      68360.0\n",
       "12     243090.0\n",
       "13     163272.0\n",
       "14     229569.0\n",
       "16      51357.0\n",
       "17     149121.0\n",
       "18     107505.0\n",
       "19      32869.0\n",
       "20     222207.0\n",
       "21      80108.0\n",
       "22     142296.0\n",
       "23     124179.0\n",
       "24          NaN\n",
       "25      68467.0\n",
       "26      53328.0\n",
       "27     121412.0\n",
       "28     247903.0\n",
       "29     165059.0\n",
       "30          NaN\n",
       "31     183471.0\n",
       "32     158391.0\n",
       "33     207286.0\n",
       "34     116416.0\n",
       "35     100271.0\n",
       "36      74064.0\n",
       "37     231163.0\n",
       "38     137450.0\n",
       "39     201890.0\n",
       "41      49830.0\n",
       "42     178501.0\n",
       "43     167965.0\n",
       "44     146381.0\n",
       "45     240981.0\n",
       "46      77333.0\n",
       "47     164508.0\n",
       "48         50.0\n",
       "49     106213.0\n",
       "50     166967.0\n",
       "51     180810.0\n",
       "52      60746.0\n",
       "53      79377.0\n",
       "Name: salary_in_usd, dtype: float64"
      ]
     },
     "execution_count": 21,
     "metadata": {},
     "output_type": "execute_result"
    }
   ],
   "source": [
    "# first start by filtering the dataset into a one-dimensional dataframe, i.e. a series \n",
    "clean_salaries['salary_in_usd'].head(50)"
   ]
  },
  {
   "cell_type": "markdown",
   "id": "764bf1d8-01be-4aa9-b0ee-fa782c49c916",
   "metadata": {},
   "source": [
    "1. After studying the series it is dectected that there are some missing values,\n",
    "2. Also the salary distribution doesn't seem to fit the overall distributin or spread of the data, which is known as outliers i.e. we are going to fill in the missing values and also replace the outliers with the median_value as instructed."
   ]
  },
  {
   "cell_type": "code",
   "execution_count": 22,
   "id": "4e0b9943-76d1-4434-84ad-dad3cefd4975",
   "metadata": {},
   "outputs": [],
   "source": [
    "# first we calculate the median value without the missing values and the outliers from the salary_in_usd \n",
    "# a new variable is formed called the verified salary, i.e. salary without the missing values and outliers in other to get an unbiased median value. \n",
    "valid_salaries = clean_salaries.loc[\n",
    "    (clean_salaries['salary_in_usd'].notnull()) &   # .notnull here stands for salaries that are not in the NAN value\n",
    "    (clean_salaries['salary_in_usd'] >= 10000) & \n",
    "    (clean_salaries['salary_in_usd'] <= 1000000), 'salary_in_usd'\n",
    "]"
   ]
  },
  {
   "cell_type": "code",
   "execution_count": 23,
   "id": "d1db62a2-d89c-4b03-bb0a-fe567301828b",
   "metadata": {},
   "outputs": [],
   "source": [
    "median_value = valid_salaries.median()"
   ]
  },
  {
   "cell_type": "code",
   "execution_count": 24,
   "id": "b17c1c97-9df1-4fab-9c90-bd12e0148a6e",
   "metadata": {},
   "outputs": [
    {
     "data": {
      "text/plain": [
       "151570.0"
      ]
     },
     "execution_count": 24,
     "metadata": {},
     "output_type": "execute_result"
    }
   ],
   "source": [
    "median_value"
   ]
  },
  {
   "cell_type": "code",
   "execution_count": 25,
   "id": "f2f27366-8542-4fda-91f4-4d81ff3ce44d",
   "metadata": {},
   "outputs": [],
   "source": [
    "# filling the missing values with the median value(salary) calculated. \n",
    "clean_salaries['salary_in_usd'] = clean_salaries['salary_in_usd'].fillna(value=median_value)"
   ]
  },
  {
   "cell_type": "code",
   "execution_count": 26,
   "id": "1f01631c-db7a-4842-8c8e-f21e3151c42b",
   "metadata": {},
   "outputs": [],
   "source": [
    " # identifying outliers \n",
    "salary_outliers_low = clean_salaries['salary_in_usd'] < 10000\n",
    "salary_outliers_high = clean_salaries['salary_in_usd'] > 1000000"
   ]
  },
  {
   "cell_type": "code",
   "execution_count": 27,
   "id": "27fb7d79-9699-4214-ad0b-c4cd3e303cae",
   "metadata": {},
   "outputs": [],
   "source": [
    "# replacing outliers with median value\n",
    "clean_salaries.loc[salary_outliers_low, 'salary_in_usd'] = median_value\n",
    "clean_salaries.loc[salary_outliers_high, 'salary_in_usd'] = median_value"
   ]
  },
  {
   "cell_type": "code",
   "execution_count": 28,
   "id": "78f6c2e9-164b-4d7c-ae65-96d7830c514d",
   "metadata": {},
   "outputs": [
    {
     "data": {
      "text/plain": [
       "0      42183.0\n",
       "1     190371.0\n",
       "3     146336.0\n",
       "4     151570.0\n",
       "5      35539.0\n",
       "6     214423.0\n",
       "7     222339.0\n",
       "9     151570.0\n",
       "10    163629.0\n",
       "11     68360.0\n",
       "12    243090.0\n",
       "13    163272.0\n",
       "14    229569.0\n",
       "16     51357.0\n",
       "17    149121.0\n",
       "18    107505.0\n",
       "19     32869.0\n",
       "20    222207.0\n",
       "21     80108.0\n",
       "22    142296.0\n",
       "23    124179.0\n",
       "24    151570.0\n",
       "25     68467.0\n",
       "26     53328.0\n",
       "27    121412.0\n",
       "28    247903.0\n",
       "29    165059.0\n",
       "30    151570.0\n",
       "31    183471.0\n",
       "32    158391.0\n",
       "33    207286.0\n",
       "34    116416.0\n",
       "35    100271.0\n",
       "36     74064.0\n",
       "37    231163.0\n",
       "38    137450.0\n",
       "39    201890.0\n",
       "41     49830.0\n",
       "42    178501.0\n",
       "43    167965.0\n",
       "44    146381.0\n",
       "45    240981.0\n",
       "46     77333.0\n",
       "47    164508.0\n",
       "48    151570.0\n",
       "49    106213.0\n",
       "50    166967.0\n",
       "51    180810.0\n",
       "52     60746.0\n",
       "53     79377.0\n",
       "Name: salary_in_usd, dtype: float64"
      ]
     },
     "execution_count": 28,
     "metadata": {},
     "output_type": "execute_result"
    }
   ],
   "source": [
    "clean_salaries['salary_in_usd'].head(50)"
   ]
  },
  {
   "cell_type": "markdown",
   "id": "082dc88c-b1db-423d-9767-93de610331f6",
   "metadata": {},
   "source": [
    "### Task 1 summary - Data cleaning and validation. \n",
    "-All missing values has been replaced with the given entries, \n",
    " -Job titles with less than 3 characters removed to maintain meaningful job descriptions. \n",
    "-Salary_in_usd: Calculated the median salary from valid data (excluding missing values and outliers). Then replaced missing salary values and outliers (<10,000 and >1,000,000) with this median to reduce bias. Now we check for any missing value, if non then we now have a clean data below."
   ]
  },
  {
   "cell_type": "code",
   "execution_count": 29,
   "id": "4bce3808-bb05-4cd4-94fa-3a6ac9c3a177",
   "metadata": {
    "scrolled": true
   },
   "outputs": [
    {
     "data": {
      "text/plain": [
       "work_year           0\n",
       "experience_level    0\n",
       "employment_type     0\n",
       "job_title           0\n",
       "salary_in_usd       0\n",
       "remote_ratio        0\n",
       "company_location    0\n",
       "company_size        0\n",
       "dtype: int64"
      ]
     },
     "execution_count": 29,
     "metadata": {},
     "output_type": "execute_result"
    }
   ],
   "source": [
    "# checking if there are still any missing values \n",
    "clean_salaries.isna().sum()"
   ]
  },
  {
   "cell_type": "code",
   "execution_count": 30,
   "id": "38817549-e0e9-44dd-8d99-700dea02d8b5",
   "metadata": {},
   "outputs": [
    {
     "data": {
      "text/html": [
       "<div>\n",
       "<style scoped>\n",
       "    .dataframe tbody tr th:only-of-type {\n",
       "        vertical-align: middle;\n",
       "    }\n",
       "\n",
       "    .dataframe tbody tr th {\n",
       "        vertical-align: top;\n",
       "    }\n",
       "\n",
       "    .dataframe thead th {\n",
       "        text-align: right;\n",
       "    }\n",
       "</style>\n",
       "<table border=\"1\" class=\"dataframe\">\n",
       "  <thead>\n",
       "    <tr style=\"text-align: right;\">\n",
       "      <th></th>\n",
       "      <th>work_year</th>\n",
       "      <th>experience_level</th>\n",
       "      <th>employment_type</th>\n",
       "      <th>job_title</th>\n",
       "      <th>salary_in_usd</th>\n",
       "      <th>remote_ratio</th>\n",
       "      <th>company_location</th>\n",
       "      <th>company_size</th>\n",
       "    </tr>\n",
       "  </thead>\n",
       "  <tbody>\n",
       "    <tr>\n",
       "      <th>0</th>\n",
       "      <td>2022</td>\n",
       "      <td>SE</td>\n",
       "      <td>CT</td>\n",
       "      <td>Data Scientist</td>\n",
       "      <td>42183.0</td>\n",
       "      <td>50</td>\n",
       "      <td>IN</td>\n",
       "      <td>L</td>\n",
       "    </tr>\n",
       "    <tr>\n",
       "      <th>1</th>\n",
       "      <td>2023</td>\n",
       "      <td>MI</td>\n",
       "      <td>FL</td>\n",
       "      <td>Data Scientist</td>\n",
       "      <td>190371.0</td>\n",
       "      <td>100</td>\n",
       "      <td>IN</td>\n",
       "      <td>S</td>\n",
       "    </tr>\n",
       "    <tr>\n",
       "      <th>3</th>\n",
       "      <td>2022</td>\n",
       "      <td>EN</td>\n",
       "      <td>FT</td>\n",
       "      <td>ML Engineer</td>\n",
       "      <td>146336.0</td>\n",
       "      <td>50</td>\n",
       "      <td>DE</td>\n",
       "      <td>S</td>\n",
       "    </tr>\n",
       "    <tr>\n",
       "      <th>4</th>\n",
       "      <td>2022</td>\n",
       "      <td>MI</td>\n",
       "      <td>FL</td>\n",
       "      <td>ML Engineer</td>\n",
       "      <td>151570.0</td>\n",
       "      <td>100</td>\n",
       "      <td>NG</td>\n",
       "      <td>L</td>\n",
       "    </tr>\n",
       "    <tr>\n",
       "      <th>5</th>\n",
       "      <td>2023</td>\n",
       "      <td>MI</td>\n",
       "      <td>FT</td>\n",
       "      <td>Data Scientist</td>\n",
       "      <td>35539.0</td>\n",
       "      <td>50</td>\n",
       "      <td>GB</td>\n",
       "      <td>S</td>\n",
       "    </tr>\n",
       "    <tr>\n",
       "      <th>6</th>\n",
       "      <td>2020</td>\n",
       "      <td>EN</td>\n",
       "      <td>FL</td>\n",
       "      <td>AI Specialist</td>\n",
       "      <td>214423.0</td>\n",
       "      <td>100</td>\n",
       "      <td>DE</td>\n",
       "      <td>XL</td>\n",
       "    </tr>\n",
       "    <tr>\n",
       "      <th>7</th>\n",
       "      <td>2020</td>\n",
       "      <td>EX</td>\n",
       "      <td>FL</td>\n",
       "      <td>ML Engineer</td>\n",
       "      <td>222339.0</td>\n",
       "      <td>50</td>\n",
       "      <td>IN</td>\n",
       "      <td>S</td>\n",
       "    </tr>\n",
       "    <tr>\n",
       "      <th>9</th>\n",
       "      <td>2021</td>\n",
       "      <td>SE</td>\n",
       "      <td>FT</td>\n",
       "      <td>ML Engineer</td>\n",
       "      <td>151570.0</td>\n",
       "      <td>100</td>\n",
       "      <td>IN</td>\n",
       "      <td>M</td>\n",
       "    </tr>\n",
       "    <tr>\n",
       "      <th>10</th>\n",
       "      <td>2022</td>\n",
       "      <td>EX</td>\n",
       "      <td>CT</td>\n",
       "      <td>AI Specialist</td>\n",
       "      <td>163629.0</td>\n",
       "      <td>50</td>\n",
       "      <td>US</td>\n",
       "      <td>S</td>\n",
       "    </tr>\n",
       "    <tr>\n",
       "      <th>11</th>\n",
       "      <td>2022</td>\n",
       "      <td>SE</td>\n",
       "      <td>CT</td>\n",
       "      <td>Data Analyst</td>\n",
       "      <td>68360.0</td>\n",
       "      <td>50</td>\n",
       "      <td>IN</td>\n",
       "      <td>M</td>\n",
       "    </tr>\n",
       "    <tr>\n",
       "      <th>12</th>\n",
       "      <td>2022</td>\n",
       "      <td>EX</td>\n",
       "      <td>FT</td>\n",
       "      <td>AI Specialist</td>\n",
       "      <td>243090.0</td>\n",
       "      <td>50</td>\n",
       "      <td>US</td>\n",
       "      <td>S</td>\n",
       "    </tr>\n",
       "    <tr>\n",
       "      <th>13</th>\n",
       "      <td>2022</td>\n",
       "      <td>MI</td>\n",
       "      <td>CT</td>\n",
       "      <td>Data Analyst</td>\n",
       "      <td>163272.0</td>\n",
       "      <td>0</td>\n",
       "      <td>NG</td>\n",
       "      <td>L</td>\n",
       "    </tr>\n",
       "    <tr>\n",
       "      <th>14</th>\n",
       "      <td>2023</td>\n",
       "      <td>SE</td>\n",
       "      <td>CT</td>\n",
       "      <td>Data Analyst</td>\n",
       "      <td>229569.0</td>\n",
       "      <td>0</td>\n",
       "      <td>IN</td>\n",
       "      <td>L</td>\n",
       "    </tr>\n",
       "    <tr>\n",
       "      <th>16</th>\n",
       "      <td>2023</td>\n",
       "      <td>EN</td>\n",
       "      <td>FL</td>\n",
       "      <td>Data Analyst</td>\n",
       "      <td>51357.0</td>\n",
       "      <td>100</td>\n",
       "      <td>GB</td>\n",
       "      <td>S</td>\n",
       "    </tr>\n",
       "    <tr>\n",
       "      <th>17</th>\n",
       "      <td>2023</td>\n",
       "      <td>MI</td>\n",
       "      <td>FT</td>\n",
       "      <td>Data Scientist</td>\n",
       "      <td>149121.0</td>\n",
       "      <td>50</td>\n",
       "      <td>GB</td>\n",
       "      <td>S</td>\n",
       "    </tr>\n",
       "    <tr>\n",
       "      <th>18</th>\n",
       "      <td>2023</td>\n",
       "      <td>EX</td>\n",
       "      <td>FT</td>\n",
       "      <td>Data Analyst</td>\n",
       "      <td>107505.0</td>\n",
       "      <td>100</td>\n",
       "      <td>IN</td>\n",
       "      <td>L</td>\n",
       "    </tr>\n",
       "    <tr>\n",
       "      <th>19</th>\n",
       "      <td>2022</td>\n",
       "      <td>EN</td>\n",
       "      <td>CT</td>\n",
       "      <td>ML Engineer</td>\n",
       "      <td>32869.0</td>\n",
       "      <td>0</td>\n",
       "      <td>NG</td>\n",
       "      <td>S</td>\n",
       "    </tr>\n",
       "    <tr>\n",
       "      <th>20</th>\n",
       "      <td>2021</td>\n",
       "      <td>EX</td>\n",
       "      <td>CT</td>\n",
       "      <td>AI Specialist</td>\n",
       "      <td>222207.0</td>\n",
       "      <td>50</td>\n",
       "      <td>US</td>\n",
       "      <td>L</td>\n",
       "    </tr>\n",
       "    <tr>\n",
       "      <th>21</th>\n",
       "      <td>2020</td>\n",
       "      <td>EN</td>\n",
       "      <td>CT</td>\n",
       "      <td>Data Scientist</td>\n",
       "      <td>80108.0</td>\n",
       "      <td>100</td>\n",
       "      <td>IN</td>\n",
       "      <td>M</td>\n",
       "    </tr>\n",
       "    <tr>\n",
       "      <th>22</th>\n",
       "      <td>2021</td>\n",
       "      <td>MI</td>\n",
       "      <td>PT</td>\n",
       "      <td>AI Specialist</td>\n",
       "      <td>142296.0</td>\n",
       "      <td>50</td>\n",
       "      <td>GB</td>\n",
       "      <td>L</td>\n",
       "    </tr>\n",
       "  </tbody>\n",
       "</table>\n",
       "</div>"
      ],
      "text/plain": [
       "    work_year experience_level employment_type       job_title  salary_in_usd  \\\n",
       "0        2022               SE              CT  Data Scientist        42183.0   \n",
       "1        2023               MI              FL  Data Scientist       190371.0   \n",
       "3        2022               EN              FT     ML Engineer       146336.0   \n",
       "4        2022               MI              FL     ML Engineer       151570.0   \n",
       "5        2023               MI              FT  Data Scientist        35539.0   \n",
       "6        2020               EN              FL   AI Specialist       214423.0   \n",
       "7        2020               EX              FL     ML Engineer       222339.0   \n",
       "9        2021               SE              FT     ML Engineer       151570.0   \n",
       "10       2022               EX              CT   AI Specialist       163629.0   \n",
       "11       2022               SE              CT    Data Analyst        68360.0   \n",
       "12       2022               EX              FT   AI Specialist       243090.0   \n",
       "13       2022               MI              CT    Data Analyst       163272.0   \n",
       "14       2023               SE              CT    Data Analyst       229569.0   \n",
       "16       2023               EN              FL    Data Analyst        51357.0   \n",
       "17       2023               MI              FT  Data Scientist       149121.0   \n",
       "18       2023               EX              FT    Data Analyst       107505.0   \n",
       "19       2022               EN              CT     ML Engineer        32869.0   \n",
       "20       2021               EX              CT   AI Specialist       222207.0   \n",
       "21       2020               EN              CT  Data Scientist        80108.0   \n",
       "22       2021               MI              PT   AI Specialist       142296.0   \n",
       "\n",
       "    remote_ratio company_location company_size  \n",
       "0             50               IN            L  \n",
       "1            100               IN            S  \n",
       "3             50               DE            S  \n",
       "4            100               NG            L  \n",
       "5             50               GB            S  \n",
       "6            100               DE           XL  \n",
       "7             50               IN            S  \n",
       "9            100               IN            M  \n",
       "10            50               US            S  \n",
       "11            50               IN            M  \n",
       "12            50               US            S  \n",
       "13             0               NG            L  \n",
       "14             0               IN            L  \n",
       "16           100               GB            S  \n",
       "17            50               GB            S  \n",
       "18           100               IN            L  \n",
       "19             0               NG            S  \n",
       "20            50               US            L  \n",
       "21           100               IN            M  \n",
       "22            50               GB            L  "
      ]
     },
     "execution_count": 30,
     "metadata": {},
     "output_type": "execute_result"
    }
   ],
   "source": [
    "# checking if there are still any missing values \n",
    "clean_salaries.head(20)"
   ]
  },
  {
   "cell_type": "markdown",
   "id": "abab1cf6-818a-4fac-ad68-a5880d704559",
   "metadata": {},
   "source": [
    "# Task 2 - Salary Trend By Experience"
   ]
  },
  {
   "cell_type": "markdown",
   "id": "1bd9938c-1ad1-4fc3-b150-6c700aed9c20",
   "metadata": {},
   "source": [
    " Grouping data by experience_level and employment_type: We're grouping by both experience level and employment type. This shows how these two factors together impact salary trends."
   ]
  },
  {
   "cell_type": "code",
   "execution_count": 31,
   "id": "ba2bd8f5-b2c9-43e0-8ede-06acdaf17182",
   "metadata": {},
   "outputs": [],
   "source": [
    "# grouping the data \n",
    "salary_trends = clean_salaries.groupby(['experience_level', 'employment_type'])['salary_in_usd'].mean().reset_index()"
   ]
  },
  {
   "cell_type": "code",
   "execution_count": 32,
   "id": "77b6dc87-469c-4173-b161-1dd7353fb63a",
   "metadata": {},
   "outputs": [],
   "source": [
    "# renaming the column: This line renames the column salary_in_usd to average_salary_usd to make it clearer that the column contains average salaries.\n",
    "salary_trends = salary_trends.rename(columns={'salary_in_usd': 'average_salary_usd'})"
   ]
  },
  {
   "cell_type": "code",
   "execution_count": 33,
   "id": "5024a551-8bb6-4f4f-bdc6-4eaab5c2654b",
   "metadata": {},
   "outputs": [
    {
     "data": {
      "text/html": [
       "<div>\n",
       "<style scoped>\n",
       "    .dataframe tbody tr th:only-of-type {\n",
       "        vertical-align: middle;\n",
       "    }\n",
       "\n",
       "    .dataframe tbody tr th {\n",
       "        vertical-align: top;\n",
       "    }\n",
       "\n",
       "    .dataframe thead th {\n",
       "        text-align: right;\n",
       "    }\n",
       "</style>\n",
       "<table border=\"1\" class=\"dataframe\">\n",
       "  <thead>\n",
       "    <tr style=\"text-align: right;\">\n",
       "      <th></th>\n",
       "      <th>experience_level</th>\n",
       "      <th>employment_type</th>\n",
       "      <th>average_salary_usd</th>\n",
       "    </tr>\n",
       "  </thead>\n",
       "  <tbody>\n",
       "    <tr>\n",
       "      <th>0</th>\n",
       "      <td>EN</td>\n",
       "      <td>CT</td>\n",
       "      <td>91934.200000</td>\n",
       "    </tr>\n",
       "    <tr>\n",
       "      <th>1</th>\n",
       "      <td>EN</td>\n",
       "      <td>FL</td>\n",
       "      <td>160093.333333</td>\n",
       "    </tr>\n",
       "    <tr>\n",
       "      <th>2</th>\n",
       "      <td>EN</td>\n",
       "      <td>FT</td>\n",
       "      <td>132460.333333</td>\n",
       "    </tr>\n",
       "    <tr>\n",
       "      <th>3</th>\n",
       "      <td>EN</td>\n",
       "      <td>PT</td>\n",
       "      <td>164572.857143</td>\n",
       "    </tr>\n",
       "    <tr>\n",
       "      <th>4</th>\n",
       "      <td>EX</td>\n",
       "      <td>CT</td>\n",
       "      <td>166817.200000</td>\n",
       "    </tr>\n",
       "    <tr>\n",
       "      <th>5</th>\n",
       "      <td>EX</td>\n",
       "      <td>FL</td>\n",
       "      <td>163361.250000</td>\n",
       "    </tr>\n",
       "    <tr>\n",
       "      <th>6</th>\n",
       "      <td>EX</td>\n",
       "      <td>FT</td>\n",
       "      <td>175002.625000</td>\n",
       "    </tr>\n",
       "    <tr>\n",
       "      <th>7</th>\n",
       "      <td>EX</td>\n",
       "      <td>PT</td>\n",
       "      <td>110018.500000</td>\n",
       "    </tr>\n",
       "    <tr>\n",
       "      <th>8</th>\n",
       "      <td>MI</td>\n",
       "      <td>CT</td>\n",
       "      <td>170696.750000</td>\n",
       "    </tr>\n",
       "    <tr>\n",
       "      <th>9</th>\n",
       "      <td>MI</td>\n",
       "      <td>FL</td>\n",
       "      <td>127798.000000</td>\n",
       "    </tr>\n",
       "    <tr>\n",
       "      <th>10</th>\n",
       "      <td>MI</td>\n",
       "      <td>FT</td>\n",
       "      <td>116323.750000</td>\n",
       "    </tr>\n",
       "    <tr>\n",
       "      <th>11</th>\n",
       "      <td>MI</td>\n",
       "      <td>PT</td>\n",
       "      <td>131637.750000</td>\n",
       "    </tr>\n",
       "    <tr>\n",
       "      <th>12</th>\n",
       "      <td>SE</td>\n",
       "      <td>CT</td>\n",
       "      <td>127803.833333</td>\n",
       "    </tr>\n",
       "    <tr>\n",
       "      <th>13</th>\n",
       "      <td>SE</td>\n",
       "      <td>FL</td>\n",
       "      <td>129452.750000</td>\n",
       "    </tr>\n",
       "    <tr>\n",
       "      <th>14</th>\n",
       "      <td>SE</td>\n",
       "      <td>FT</td>\n",
       "      <td>139969.545455</td>\n",
       "    </tr>\n",
       "    <tr>\n",
       "      <th>15</th>\n",
       "      <td>SE</td>\n",
       "      <td>PT</td>\n",
       "      <td>170817.666667</td>\n",
       "    </tr>\n",
       "  </tbody>\n",
       "</table>\n",
       "</div>"
      ],
      "text/plain": [
       "   experience_level employment_type  average_salary_usd\n",
       "0                EN              CT        91934.200000\n",
       "1                EN              FL       160093.333333\n",
       "2                EN              FT       132460.333333\n",
       "3                EN              PT       164572.857143\n",
       "4                EX              CT       166817.200000\n",
       "5                EX              FL       163361.250000\n",
       "6                EX              FT       175002.625000\n",
       "7                EX              PT       110018.500000\n",
       "8                MI              CT       170696.750000\n",
       "9                MI              FL       127798.000000\n",
       "10               MI              FT       116323.750000\n",
       "11               MI              PT       131637.750000\n",
       "12               SE              CT       127803.833333\n",
       "13               SE              FL       129452.750000\n",
       "14               SE              FT       139969.545455\n",
       "15               SE              PT       170817.666667"
      ]
     },
     "execution_count": 33,
     "metadata": {},
     "output_type": "execute_result"
    }
   ],
   "source": [
    "salary_trends"
   ]
  },
  {
   "cell_type": "markdown",
   "id": "955a9f76-bd74-4234-8b32-d35f92149d9c",
   "metadata": {},
   "source": [
    "##### A Barplot to show the salary trend of how experience level affect salary across employment types - a bonus view"
   ]
  },
  {
   "cell_type": "code",
   "execution_count": 34,
   "id": "a4164b2b-c726-4a14-b247-1dcda66a974b",
   "metadata": {},
   "outputs": [],
   "source": [
    "import seaborn as sns"
   ]
  },
  {
   "cell_type": "code",
   "execution_count": 35,
   "id": "fef57670-808e-4789-a2f3-c3564490b21a",
   "metadata": {},
   "outputs": [
    {
     "data": {
      "text/plain": [
       "<Axes: xlabel='experience_level', ylabel='average_salary_usd'>"
      ]
     },
     "execution_count": 35,
     "metadata": {},
     "output_type": "execute_result"
    },
    {
     "data": {
      "image/png": "[encoded data removed]",
      "text/plain": [
       "<Figure size 640x480 with 1 Axes>"
      ]
     },
     "metadata": {},
     "output_type": "display_data"
    }
   ],
   "source": [
    "sns.barplot(data=salary_trends, x='experience_level', y='average_salary_usd', hue='employment_type')"
   ]
  },
  {
   "cell_type": "markdown",
   "id": "20f58f59-9b3a-42ce-a7b0-3925c2936d92",
   "metadata": {},
   "source": [
    "### Salary Trend Observations \n",
    " Entry-Level Insights: Entry-level roles show diverse salary ranges. Part-time and freelance can surprisingly offer higher pay than full-time or contract positions.\n",
    "\n",
    "-Executive Compensation: Executive roles generally command the highest salaries. Full-time and contract positions lead in compensation.\n",
    "\n",
    "-Mid-Level Observations: Mid-level salaries in contract roles stand out, but full-time pay is lower compared to entry-level, showing varied compensation patterns.\n",
    "\n",
    "-Senior-Level Highlights: Senior-level employees see top salaries in part-time roles, indicating lucrative opportunities for experienced individuals in part-time work.\n",
    "\n",
    "-General Trend: Full-time roles are competitive, but part-time and freelance positions can exceed full-time salaries, suggesting dynamic pay structures based on employment type and experience.\n",
    "\n",
    "#### Overall, both experience level and employment type significantly shape salary, indicating a difference in compensation landscape.\n"
   ]
  },
  {
   "cell_type": "markdown",
   "id": "e0646596-7477-4839-8dba-7e2d2e3fbaa3",
   "metadata": {},
   "source": [
    "## Task 3: Remote Work Analysis\n"
   ]
  },
  {
   "cell_type": "markdown",
   "id": "06608a86-593c-47ac-8dba-97df51d5cb8f",
   "metadata": {},
   "source": [
    "Comparing the salaries between Remote workers and Onsite workers.\n"
   ]
  },
  {
   "cell_type": "code",
   "execution_count": 38,
   "id": "f884d917-95ee-4a8e-bc66-2d4499dd790f",
   "metadata": {},
   "outputs": [],
   "source": [
    "# filtering the data for each worktype and calculating the mean.\n",
    "# calculating for the remote worktype\n",
    "remote_avg_salary = clean_salaries[clean_salaries['remote_ratio']== 100]['salary_in_usd'].mean()\n",
    "#calculating for the on-site worktype\n",
    "onsite_avg_salary = clean_salaries[clean_salaries['remote_ratio']== 0]['salary_in_usd'].mean()"
   ]
  },
  {
   "cell_type": "code",
   "execution_count": 40,
   "id": "fe3c226b-bf13-4769-8e6b-f8a38e11ff67",
   "metadata": {},
   "outputs": [
    {
     "name": "stdout",
     "output_type": "stream",
     "text": [
      "144803.57142857142\n",
      "153092.25925925927\n"
     ]
    }
   ],
   "source": [
    "print(remote_avg_salary)\n",
    "print(onsite_avg_salary)"
   ]
  },
  {
   "cell_type": "code",
   "execution_count": 43,
   "id": "34ee77c4-2fb5-4a8c-93be-e8925c2f9b86",
   "metadata": {},
   "outputs": [],
   "source": [
    "# creating comparism between both worktypes using dataframe \n",
    "remote_salary_comparison = pd.DataFrame({'Work Type' : ['Remote', 'On-site'], 'Average Salary USD' : [round(remote_avg_salary, 2), round(onsite_avg_salary, 2)]})"
   ]
  },
  {
   "cell_type": "code",
   "execution_count": 44,
   "id": "3cba152a-95d7-4ced-9e85-23cfb84eca54",
   "metadata": {},
   "outputs": [
    {
     "data": {
      "text/html": [
       "<div>\n",
       "<style scoped>\n",
       "    .dataframe tbody tr th:only-of-type {\n",
       "        vertical-align: middle;\n",
       "    }\n",
       "\n",
       "    .dataframe tbody tr th {\n",
       "        vertical-align: top;\n",
       "    }\n",
       "\n",
       "    .dataframe thead th {\n",
       "        text-align: right;\n",
       "    }\n",
       "</style>\n",
       "<table border=\"1\" class=\"dataframe\">\n",
       "  <thead>\n",
       "    <tr style=\"text-align: right;\">\n",
       "      <th></th>\n",
       "      <th>Work Type</th>\n",
       "      <th>Average Salary USD</th>\n",
       "    </tr>\n",
       "  </thead>\n",
       "  <tbody>\n",
       "    <tr>\n",
       "      <th>0</th>\n",
       "      <td>Remote</td>\n",
       "      <td>144803.57</td>\n",
       "    </tr>\n",
       "    <tr>\n",
       "      <th>1</th>\n",
       "      <td>On-site</td>\n",
       "      <td>153092.26</td>\n",
       "    </tr>\n",
       "  </tbody>\n",
       "</table>\n",
       "</div>"
      ],
      "text/plain": [
       "  Work Type  Average Salary USD\n",
       "0    Remote           144803.57\n",
       "1   On-site           153092.26"
      ]
     },
     "execution_count": 44,
     "metadata": {},
     "output_type": "execute_result"
    }
   ],
   "source": [
    "remote_salary_comparison"
   ]
  },
  {
   "cell_type": "markdown",
   "id": "c85a0342-030b-43f3-b67a-469b45ae5c58",
   "metadata": {},
   "source": [
    "### Insights on the Remote Salary Comparison\n",
    "This insight show a differnce of 8,288.69usd meaning that the onsite worker earn the difference of up to  8,300usd more than a remote worker, this difference may reflect factors like location costs and job roles. Also compensation trends vary, but many companies may adjust pay based on work location, education level, and other factors."
   ]
  },
  {
   "cell_type": "code",
   "execution_count": null,
   "id": "98977e53-6718-48c6-bf68-f4304c2e1198",
   "metadata": {},
   "outputs": [],
   "source": []
  }
 ],
 "metadata": {
  "kernelspec": {
   "display_name": "Python 3 (ipykernel)",
   "language": "python",
   "name": "python3"
  },
  "language_info": {
   "codemirror_mode": {
    "name": "ipython",
    "version": 3
   },
   "file_extension": ".py",
   "mimetype": "text/x-python",
   "name": "python",
   "nbconvert_exporter": "python",
   "pygments_lexer": "ipython3",
   "version": "3.13.5"
  }
 },
 "nbformat": 4,
 "nbformat_minor": 5
}
